{
  "nbformat": 4,
  "nbformat_minor": 0,
  "metadata": {
    "colab": {
      "provenance": [],
      "toc_visible": true
    },
    "kernelspec": {
      "name": "python3",
      "display_name": "Python 3"
    },
    "language_info": {
      "name": "python"
    }
  },
  "cells": [
    {
      "cell_type": "markdown",
      "source": [
        "# ACTIVIDAD 4 CONTROL DE FLUJO EN PYTHON CON FUNCIONES Y EXCEPCIONES"
      ],
      "metadata": {
        "id": "1CqBHDjhWWp0"
      }
    },
    {
      "cell_type": "markdown",
      "source": [
        "COLIN REYES BRIAN GABRIEL \\\n",
        "MATRICULA: 379494 \\\n",
        "FECHA: 04/09/25"
      ],
      "metadata": {
        "id": "Npr3mxsbWeFS"
      }
    },
    {
      "cell_type": "markdown",
      "source": [
        "## EJERCICIO 1: Números Aleatorios (Par/Impar)"
      ],
      "metadata": {
        "id": "4INnEynTWrXr"
      }
    },
    {
      "cell_type": "markdown",
      "source": [
        "### DESCRIPCIÓN"
      ],
      "metadata": {
        "id": "F6XPuhRgW0LI"
      }
    },
    {
      "cell_type": "markdown",
      "source": [
        "Generar 40 enteros aleatorios entre 0 y 200, mostrar cada número indicando si es par o impar, contar cuántos pares e impares hay y calcular la suma de los pares y la suma de los impares. Aplicando for, random.randint, el operador %, contadores y acumuladores."
      ],
      "metadata": {
        "id": "biw6b3fbW5Oe"
      }
    },
    {
      "cell_type": "markdown",
      "source": [
        "### SOLUCIÓN"
      ],
      "metadata": {
        "id": "Gc8CuWFQW63G"
      }
    },
    {
      "cell_type": "code",
      "source": [
        "import random\n",
        "numeros = [random.randint(0, 200) for _ in range(40)]\n",
        "\n",
        "count_par = 0\n",
        "count_impar = 0\n",
        "sum_par = 0\n",
        "sum_impar = 0\n",
        "\n",
        "print(\"Números generados:\")\n",
        "print(numeros)\n",
        "print(\"\\nClasificación individual:\")\n",
        "print(\"{:>4}  {:>6}\".format(\"Índice\",\"Valor (tipo)\"))\n",
        "print(\"-\" * 20)\n",
        "\n",
        "for i, n in enumerate(numeros, start=1):\n",
        "    tipo = \"par\" if n % 2 == 0 else \"impar\"\n",
        "    print(f\"{i:>4}. {n:>4}  ({tipo})\")\n",
        "    if n % 2 == 0:\n",
        "        count_par += 1\n",
        "        sum_par += n\n",
        "    else:\n",
        "        count_impar += 1\n",
        "        sum_impar += n\n",
        "\n",
        "print(\"\\nResumen:\")\n",
        "print(f\"Cantidad de pares:   {count_par}\")\n",
        "print(f\"Suma de los pares:   {sum_par}\")\n",
        "print(f\"Cantidad de impares: {count_impar}\")\n",
        "print(f\"Suma de los impares: {sum_impar}\")"
      ],
      "metadata": {
        "colab": {
          "base_uri": "https://localhost:8080/"
        },
        "id": "sWX1OsyxXAvY",
        "outputId": "92d2fb1a-fb56-44f0-cdd0-89c90a8977cd"
      },
      "execution_count": null,
      "outputs": [
        {
          "output_type": "stream",
          "name": "stdout",
          "text": [
            "Números generados:\n",
            "[47, 1, 159, 194, 182, 26, 161, 119, 134, 50, 110, 94, 142, 54, 166, 34, 116, 192, 157, 6, 113, 21, 1, 169, 106, 65, 25, 171, 31, 26, 14, 138, 138, 108, 161, 5, 63, 73, 176, 199]\n",
            "\n",
            "Clasificación individual:\n",
            "Índice  Valor (tipo)\n",
            "--------------------\n",
            "   1.   47  (impar)\n",
            "   2.    1  (impar)\n",
            "   3.  159  (impar)\n",
            "   4.  194  (par)\n",
            "   5.  182  (par)\n",
            "   6.   26  (par)\n",
            "   7.  161  (impar)\n",
            "   8.  119  (impar)\n",
            "   9.  134  (par)\n",
            "  10.   50  (par)\n",
            "  11.  110  (par)\n",
            "  12.   94  (par)\n",
            "  13.  142  (par)\n",
            "  14.   54  (par)\n",
            "  15.  166  (par)\n",
            "  16.   34  (par)\n",
            "  17.  116  (par)\n",
            "  18.  192  (par)\n",
            "  19.  157  (impar)\n",
            "  20.    6  (par)\n",
            "  21.  113  (impar)\n",
            "  22.   21  (impar)\n",
            "  23.    1  (impar)\n",
            "  24.  169  (impar)\n",
            "  25.  106  (par)\n",
            "  26.   65  (impar)\n",
            "  27.   25  (impar)\n",
            "  28.  171  (impar)\n",
            "  29.   31  (impar)\n",
            "  30.   26  (par)\n",
            "  31.   14  (par)\n",
            "  32.  138  (par)\n",
            "  33.  138  (par)\n",
            "  34.  108  (par)\n",
            "  35.  161  (impar)\n",
            "  36.    5  (impar)\n",
            "  37.   63  (impar)\n",
            "  38.   73  (impar)\n",
            "  39.  176  (par)\n",
            "  40.  199  (impar)\n",
            "\n",
            "Resumen:\n",
            "Cantidad de pares:   21\n",
            "Suma de los pares:   2206\n",
            "Cantidad de impares: 19\n",
            "Suma de los impares: 1741\n"
          ]
        }
      ]
    },
    {
      "cell_type": "markdown",
      "source": [
        "## EJERCICIO 2: Tabla de Multiplicar"
      ],
      "metadata": {
        "id": "k8huLE4mXBvN"
      }
    },
    {
      "cell_type": "markdown",
      "source": [
        "### DESCRIPCIÓN"
      ],
      "metadata": {
        "id": "SCXYHCEvXG7f"
      }
    },
    {
      "cell_type": "markdown",
      "source": [
        "El programa solicita al usuario un número entero entre 1 y 20, valida que esté dentro del rango y luego despliega la tabla de multiplicar de ese número del 1 al 10 usando un ciclo for."
      ],
      "metadata": {
        "id": "3gbJHPKfXJ8T"
      }
    },
    {
      "cell_type": "markdown",
      "source": [
        "### SOLUCIÓN"
      ],
      "metadata": {
        "id": "dyO00mJCXKzH"
      }
    },
    {
      "cell_type": "code",
      "source": [
        "while True:\n",
        "    try:\n",
        "        n = int(input(\"Ingrese un número entre 1 y 20: \"))\n",
        "        if 1 <= n <= 20:\n",
        "            break\n",
        "        print(\"Número fuera de rango. Intente nuevamente.\")\n",
        "    except ValueError:\n",
        "        print(\"Entrada no válida. Ingrese un entero.\")\n",
        "\n",
        "print(f\"\\nTabla de multiplicar de {n}:\")\n",
        "for i in range(1, 11):\n",
        "    print(f\"{n} * {i} = {n * i}\")"
      ],
      "metadata": {
        "colab": {
          "base_uri": "https://localhost:8080/"
        },
        "id": "uQXI54xyXP_V",
        "outputId": "0fe7f867-a6fc-4e4d-b964-3da55463aabc"
      },
      "execution_count": null,
      "outputs": [
        {
          "output_type": "stream",
          "name": "stdout",
          "text": [
            "Ingrese un número entre 1 y 20: 2323\n",
            "Número fuera de rango. Intente nuevamente.\n",
            "Ingrese un número entre 1 y 20: 4\n",
            "\n",
            "Tabla de multiplicar de 4:\n",
            "4 * 1 = 4\n",
            "4 * 2 = 8\n",
            "4 * 3 = 12\n",
            "4 * 4 = 16\n",
            "4 * 5 = 20\n",
            "4 * 6 = 24\n",
            "4 * 7 = 28\n",
            "4 * 8 = 32\n",
            "4 * 9 = 36\n",
            "4 * 10 = 40\n"
          ]
        }
      ]
    },
    {
      "cell_type": "markdown",
      "source": [
        "## EJERCICIO 3: Validación de Calificación"
      ],
      "metadata": {
        "id": "Zz7hdWT_XRHA"
      }
    },
    {
      "cell_type": "markdown",
      "source": [
        "### DESCRIPCIÓN"
      ],
      "metadata": {
        "id": "SnhIPgY0XXum"
      }
    },
    {
      "cell_type": "markdown",
      "source": [
        "El programa solicita una calificación (0–100), maneja errores de captura con try-except, valida el rango y muestra si el alumno está \"Aprobado\" (≥ 60) o \"Reprobado\" (< 60)."
      ],
      "metadata": {
        "id": "0D_mngmTXc3L"
      }
    },
    {
      "cell_type": "markdown",
      "source": [
        "### SOLUCIÓN"
      ],
      "metadata": {
        "id": "guNMyakJXdWI"
      }
    },
    {
      "cell_type": "code",
      "source": [
        "while True:\n",
        "    try:\n",
        "        cal = float(input(\"Ingrese una calificación (0-100): \"))\n",
        "    except ValueError:\n",
        "        print(\"Error de captura: ingrese un número válido.\")\n",
        "        continue\n",
        "\n",
        "    if not 0 <= cal <= 100:\n",
        "        print(\"Calificación fuera de rango. Debe ser entre 0 y 100.\")\n",
        "        continue\n",
        "\n",
        "    break\n",
        "\n",
        "estado = \"Aprobado\" if cal >= 60 else \"Reprobado\"\n",
        "print(f\"\\nCalificación: {cal:.2f} -> {estado}\")"
      ],
      "metadata": {
        "colab": {
          "base_uri": "https://localhost:8080/"
        },
        "id": "bDGSj6z-Xgiw",
        "outputId": "fc50a560-f663-4fff-9420-69d05c1aa1a2"
      },
      "execution_count": null,
      "outputs": [
        {
          "output_type": "stream",
          "name": "stdout",
          "text": [
            "Ingrese una calificación (0-100): 999\n",
            "Calificación fuera de rango. Debe ser entre 0 y 100.\n",
            "Ingrese una calificación (0-100): 99\n",
            "\n",
            "Calificación: 99.00 -> Aprobado\n"
          ]
        }
      ]
    },
    {
      "cell_type": "markdown",
      "source": [
        "## EJERCICIO 4: Suma y Media de Números"
      ],
      "metadata": {
        "id": "MGlTU2zGXhRN"
      }
    },
    {
      "cell_type": "markdown",
      "source": [
        "### DESCRIPCIÓN"
      ],
      "metadata": {
        "id": "RUQWaiuOXmaV"
      }
    },
    {
      "cell_type": "markdown",
      "source": [
        "El programa lee enteros positivos hasta que el usuario ingresa 0. Valida la entrada (entero y no negativo), acumula la suma y cuenta los valores, y al finalizar muestra la suma total y la media. Si no se introdujo ningún número distinto de 0 informa que no hay datos."
      ],
      "metadata": {
        "id": "4TGIkmXJXo0g"
      }
    },
    {
      "cell_type": "markdown",
      "source": [
        "### SOLUCIÓN"
      ],
      "metadata": {
        "id": "tTZy2IxZXpS4"
      }
    },
    {
      "cell_type": "code",
      "source": [
        "total = 0\n",
        "contador = 0\n",
        "\n",
        "while True:\n",
        "    try:\n",
        "        n = int(input(\"Ingrese un número entero positivo (0 para terminar): \"))\n",
        "    except ValueError:\n",
        "        print(\"Entrada no válida. Ingrese un entero.\")\n",
        "        continue\n",
        "\n",
        "    if n < 0:\n",
        "        print(\"Solo se permiten números positivos. Intente otra vez.\")\n",
        "        continue\n",
        "\n",
        "    if n == 0:\n",
        "        break\n",
        "\n",
        "    total += n\n",
        "    contador += 1\n",
        "\n",
        "if contador == 0:\n",
        "    print(\"\\nNo se ingresaron números.\")\n",
        "else:\n",
        "    media = total / contador\n",
        "    print(f\"\\nSuma total: {total}\")\n",
        "    print(f\"Cantidad de números: {contador}\")\n",
        "    print(f\"Media: {media:.2f}\")6"
      ],
      "metadata": {
        "colab": {
          "base_uri": "https://localhost:8080/"
        },
        "id": "ODkEfSd0XsLA",
        "outputId": "74c44817-e590-4cea-f452-ccfe11ee8595"
      },
      "execution_count": null,
      "outputs": [
        {
          "output_type": "stream",
          "name": "stdout",
          "text": [
            "Ingrese un número entero positivo (0 para terminar): 1.2\n",
            "Entrada no válida. Ingrese un entero.\n",
            "Ingrese un número entero positivo (0 para terminar): -1\n",
            "Solo se permiten números positivos. Intente otra vez.\n",
            "Ingrese un número entero positivo (0 para terminar): 4\n",
            "Ingrese un número entero positivo (0 para terminar): 5\n",
            "Ingrese un número entero positivo (0 para terminar): \n",
            "Entrada no válida. Ingrese un entero.\n",
            "Ingrese un número entero positivo (0 para terminar): 0\n",
            "\n",
            "Suma total: 9\n",
            "Cantidad de números: 2\n",
            "Media: 4.50\n"
          ]
        }
      ]
    },
    {
      "cell_type": "markdown",
      "source": [
        "## EJERCICIO 5: Promedio de Materia"
      ],
      "metadata": {
        "id": "xoRi_odjXtH_"
      }
    },
    {
      "cell_type": "markdown",
      "source": [
        "### DESCRIPCION"
      ],
      "metadata": {
        "id": "1besDx6IXz7Z"
      }
    },
    {
      "cell_type": "markdown",
      "source": [
        "El programa permite hasta 3 intentos para ingresar el promedio de una materia (0–100). Valida la entrada con try-except y no cuenta intentos cuando la entrada es inválida. Si el promedio es ≥ 60 muestra felicitaciones y termina; si tras 3 intentos válidos el estudiante sigue reprobando, muestra \"Baja Académica\"."
      ],
      "metadata": {
        "id": "A_sQUiSzX3wH"
      }
    },
    {
      "cell_type": "markdown",
      "source": [
        "### SOLUCIÓN"
      ],
      "metadata": {
        "id": "WIP3yUmrX4sU"
      }
    },
    {
      "cell_type": "code",
      "source": [
        "for intento in range(1, 4):\n",
        "    while True:\n",
        "        try:\n",
        "            prom = float(input(f\"Intento {intento}/3 - Ingrese el promedio (0-100): \"))\n",
        "        except ValueError:\n",
        "            print(\"Entrada no válida. Ingrese un número.\")\n",
        "            continue\n",
        "\n",
        "        if not 0 <= prom <= 100:\n",
        "            print(\"Fuera de rango. Debe estar entre 0 y 100.\")\n",
        "            continue\n",
        "\n",
        "        break\n",
        "\n",
        "    if prom >= 60:\n",
        "        print(f\"\\nPromedio {prom:.2f} -> ¡Aprobado! Felicidades, pase al siguiente semestre.\")\n",
        "        break\n",
        "    else:\n",
        "        quedan = 3 - intento\n",
        "        if quedan > 0:\n",
        "            print(f\"Promedio {prom:.2f} -> Reprobado. Quedan {quedan} intento(s).\")\n",
        "        else:\n",
        "            print(f\"\\nPromedio {prom:.2f} -> Reprobado.\\nBaja Académica\")"
      ],
      "metadata": {
        "colab": {
          "base_uri": "https://localhost:8080/"
        },
        "id": "bBte30f4X7OT",
        "outputId": "33c4aee3-c52e-4065-93bb-8c64a6f13e88"
      },
      "execution_count": null,
      "outputs": [
        {
          "output_type": "stream",
          "name": "stdout",
          "text": [
            "Intento 1/3 - Ingrese el promedio (0-100): 111\n",
            "Fuera de rango. Debe estar entre 0 y 100.\n",
            "Intento 1/3 - Ingrese el promedio (0-100): 34\n",
            "Promedio 34.00 -> Reprobado. Quedan 2 intento(s).\n",
            "Intento 2/3 - Ingrese el promedio (0-100): 54\n",
            "Promedio 54.00 -> Reprobado. Quedan 1 intento(s).\n",
            "Intento 3/3 - Ingrese el promedio (0-100): 666\n",
            "Fuera de rango. Debe estar entre 0 y 100.\n",
            "Intento 3/3 - Ingrese el promedio (0-100): 76\n",
            "\n",
            "Promedio 76.00 -> ¡Aprobado! Felicidades, pase al siguiente semestre.\n"
          ]
        }
      ]
    },
    {
      "cell_type": "markdown",
      "source": [
        "## EJERCICIO 6: Función para Suma, Media, Mayor y Menor"
      ],
      "metadata": {
        "id": "4jLoMwhhYCF2"
      }
    },
    {
      "cell_type": "markdown",
      "source": [
        "### DESCRICPIÓN"
      ],
      "metadata": {
        "id": "7OzIf8M8YJIs"
      }
    },
    {
      "cell_type": "markdown",
      "source": [
        "La función permite leer números hasta que el usuario decida dejar de ingresar más. Valida entradas numéricas, acumula suma y contador, y mantiene el valor mayor y menor. Al finalizar muestra la suma, la media, el mayor y el menor. La función devuelve un diccionario con esos resultados."
      ],
      "metadata": {
        "id": "rTWoj8GOYLQ7"
      }
    },
    {
      "cell_type": "markdown",
      "source": [
        "### SOLUCIÓN"
      ],
      "metadata": {
        "id": "t4N0msV2YMJk"
      }
    },
    {
      "cell_type": "code",
      "source": [
        "def procesar_numeros():\n",
        "    total = 0.0\n",
        "    cantidad = 0\n",
        "    mayor = None\n",
        "    menor = None\n",
        "\n",
        "    while True:\n",
        "        entrada = input(\"Ingrese un número (o escriba 'salir' para terminar): \").strip()\n",
        "        if entrada.lower() in (\"salir\", \"fin\", \"s\"):\n",
        "            break\n",
        "\n",
        "        try:\n",
        "            num = float(entrada)\n",
        "        except ValueError:\n",
        "            print(\"Entrada no válida. Ingrese un número o 'salir' para terminar.\")\n",
        "            continue\n",
        "\n",
        "        total += num\n",
        "        cantidad += 1\n",
        "        if mayor is None or num > mayor:\n",
        "            mayor = num\n",
        "        if menor is None or num < menor:\n",
        "            menor = num\n",
        "\n",
        "        seguir = input(\"¿Desea ingresar otro número? (s/n): \").strip().lower()\n",
        "        if seguir == \"n\":\n",
        "            break\n",
        "\n",
        "    if cantidad == 0:\n",
        "        print(\"\\nNo se ingresaron números.\")\n",
        "        return {\"suma\": 0.0, \"media\": None, \"mayor\": None, \"menor\": None, \"cantidad\": 0}\n",
        "\n",
        "    media = total / cantidad\n",
        "    print(\"\\nResultados:\")\n",
        "    print(f\"Suma:   {total}\")\n",
        "    print(f\"Media:  {media}\")\n",
        "    print(f\"Mayor:  {mayor}\")\n",
        "    print(f\"Menor:  {menor}\")\n",
        "    print(f\"Cantidad de números: {cantidad}\")\n",
        "\n",
        "    return {\"suma\": total, \"media\": media, \"mayor\": mayor, \"menor\": menor, \"cantidad\": cantidad}\n",
        "\n",
        "resultados = procesar_numeros()"
      ],
      "metadata": {
        "colab": {
          "base_uri": "https://localhost:8080/"
        },
        "id": "M4B0hG2mYOXX",
        "outputId": "c12fd810-73bd-4137-967a-2ac21b996468"
      },
      "execution_count": null,
      "outputs": [
        {
          "output_type": "stream",
          "name": "stdout",
          "text": [
            "Ingrese un número (o escriba 'salir' para terminar): d\n",
            "Entrada no válida. Ingrese un número o 'salir' para terminar.\n",
            "Ingrese un número (o escriba 'salir' para terminar): 4\n",
            "¿Desea ingresar otro número? (s/n): s\n",
            "Ingrese un número (o escriba 'salir' para terminar): 56\n",
            "¿Desea ingresar otro número? (s/n): n\n",
            "\n",
            "Resultados:\n",
            "Suma:   60.0\n",
            "Media:  30.0\n",
            "Mayor:  56.0\n",
            "Menor:  4.0\n",
            "Cantidad de números: 2\n"
          ]
        }
      ]
    },
    {
      "cell_type": "markdown",
      "source": [
        "## EJERCICIO 7: Generación de Números Impares"
      ],
      "metadata": {
        "id": "cJ1Bsv50YOte"
      }
    },
    {
      "cell_type": "markdown",
      "source": [
        "### DESCRIPCIÓN"
      ],
      "metadata": {
        "id": "o-fECqbqYgaD"
      }
    },
    {
      "cell_type": "markdown",
      "source": [
        "La función genera números aleatorios entre 10 y 60 usando un for (hasta 25 intentos) y se detiene si logra 15 números impares antes de llegar al máximo. Clasifica cada número como par o impar, acumula y cuenta ambos grupos, y al final muestra la lista de números generados, la cantidad y la media de pares e impares (si existen)."
      ],
      "metadata": {
        "id": "z4nDRNGsYkGj"
      }
    },
    {
      "cell_type": "markdown",
      "source": [
        "### SOLUCIÓN"
      ],
      "metadata": {
        "id": "wn31QheYYkoE"
      }
    },
    {
      "cell_type": "code",
      "source": [
        "import random\n",
        "\n",
        "def generar_impares_y_promedios():\n",
        "\n",
        "    generados = []\n",
        "    pares = []\n",
        "    impares = []\n",
        "    max_intentos = 25\n",
        "    objetivo_impares = 15\n",
        "\n",
        "    for _ in range(max_intentos):\n",
        "        n = random.randint(10, 60)\n",
        "        generados.append(n)\n",
        "        if n % 2 == 0:\n",
        "            pares.append(n)\n",
        "        else:\n",
        "            impares.append(n)\n",
        "\n",
        "        if len(impares) >= objetivo_impares:\n",
        "            break\n",
        "\n",
        "    print(\"Números generados:\")\n",
        "    print(generados)\n",
        "    print()\n",
        "\n",
        "    print(f\"Impares ({len(impares)}): {impares}\")\n",
        "    print(f\"Pares   ({len(pares)}): {pares}\")\n",
        "    print()\n",
        "\n",
        "    def media(lista):\n",
        "        return sum(lista) / len(lista) if lista else None\n",
        "\n",
        "    media_impares = media(impares)\n",
        "    media_pares = media(pares)\n",
        "\n",
        "    if media_impares is not None:\n",
        "        print(f\"Media de impares: {media_impares:.2f}\")\n",
        "    else:\n",
        "        print(\"No se generaron impares.\")\n",
        "\n",
        "    if media_pares is not None:\n",
        "        print(f\"Media de pares:   {media_pares:.2f}\")\n",
        "    else:\n",
        "        print(\"No se generaron pares.\")\n",
        "\n",
        "    return {\n",
        "        \"generados\": generados,\n",
        "        \"impares\": impares,\n",
        "        \"pares\": pares,\n",
        "        \"media_impares\": media_impares,\n",
        "        \"media_pares\": media_pares\n",
        "    }\n",
        "\n",
        "result = generar_impares_y_promedios()"
      ],
      "metadata": {
        "colab": {
          "base_uri": "https://localhost:8080/"
        },
        "id": "A8EDdu5YYtXH",
        "outputId": "c717103a-0c83-47fb-9a7a-c83917d62031"
      },
      "execution_count": null,
      "outputs": [
        {
          "output_type": "stream",
          "name": "stdout",
          "text": [
            "Números generados:\n",
            "[58, 35, 27, 50, 46, 11, 53, 24, 17, 43, 56, 28, 39, 26, 46, 58, 41, 15, 20, 51, 55, 36, 49, 53, 42]\n",
            "\n",
            "Impares (13): [35, 27, 11, 53, 17, 43, 39, 41, 15, 51, 55, 49, 53]\n",
            "Pares   (12): [58, 50, 46, 24, 56, 28, 26, 46, 58, 20, 36, 42]\n",
            "\n",
            "Media de impares: 37.62\n",
            "Media de pares:   40.83\n"
          ]
        }
      ]
    },
    {
      "cell_type": "markdown",
      "source": [
        "## EJERCICIO 8: Validación de Número en Rango"
      ],
      "metadata": {
        "id": "bsw1hshVYnqe"
      }
    },
    {
      "cell_type": "markdown",
      "source": [
        "### DESCRIPCIÓN"
      ],
      "metadata": {
        "id": "74DGOmoLYv_u"
      }
    },
    {
      "cell_type": "markdown",
      "source": [
        "La función solicita al usuario un rango (mínimo y máximo) y luego un número para validar si está dentro de ese rango. Repite el proceso tantas veces como el usuario quiera. Al finalizar muestra la cantidad de números válidos ingresados y su promedio. Usa try-except para validar entradas y un while para repetir."
      ],
      "metadata": {
        "id": "s96vsRbyY0W8"
      }
    },
    {
      "cell_type": "markdown",
      "source": [
        "### SOLUCIÓN"
      ],
      "metadata": {
        "id": "RnPZw2AcY04R"
      }
    },
    {
      "cell_type": "code",
      "source": [
        "def validar_numeros_en_rango():\n",
        "    cantidad = 0\n",
        "    suma = 0.0\n",
        "\n",
        "    while True:\n",
        "        while True:\n",
        "            try:\n",
        "                minimo = float(input(\"Ingrese el valor mínimo del rango: \"))\n",
        "                maximo = float(input(\"Ingrese el valor máximo del rango: \"))\n",
        "            except ValueError:\n",
        "                print(\"Entrada no válida. Ingrese números para el rango.\")\n",
        "                continue\n",
        "\n",
        "            if minimo > maximo:\n",
        "                print(\"El mínimo no puede ser mayor que el máximo. Intente de nuevo.\")\n",
        "                continue\n",
        "            break\n",
        "\n",
        "        while True:\n",
        "            try:\n",
        "                num = float(input(f\"Ingrese un número entre {minimo} y {maximo}: \"))\n",
        "            except ValueError:\n",
        "                print(\"Entrada no válida. Ingrese un número.\")\n",
        "                continue\n",
        "\n",
        "            if num < minimo or num > maximo:\n",
        "                print(\"Número fuera del rango. Intente nuevamente.\")\n",
        "                continue\n",
        "            break\n",
        "\n",
        "        cantidad += 1\n",
        "        suma += num\n",
        "        print(f\"Número aceptado: {num}\")\n",
        "\n",
        "        resp = input(\"¿Desea validar otro número/rango? (s/n): \").strip().lower()\n",
        "        if resp == \"n\":\n",
        "            break\n",
        "\n",
        "    if cantidad == 0:\n",
        "        print(\"\\nNo se ingresaron números válidos.\")\n",
        "        return {\"cantidad\": 0, \"promedio\": None}\n",
        "    promedio = suma / cantidad\n",
        "    print(\"\\nResultados finales:\")\n",
        "    print(f\"Cantidad de números válidos: {cantidad}\")\n",
        "    print(f\"Promedio: {promedio:.2f}\")\n",
        "\n",
        "    return {\"cantidad\": cantidad, \"promedio\": promedio}\n",
        "\n",
        "resultados = validar_numeros_en_rango()"
      ],
      "metadata": {
        "colab": {
          "base_uri": "https://localhost:8080/"
        },
        "id": "tYYOyOhXY2UB",
        "outputId": "dc8209c0-05c8-4053-95be-5f737ec0c85b"
      },
      "execution_count": null,
      "outputs": [
        {
          "output_type": "stream",
          "name": "stdout",
          "text": [
            "Ingrese el valor mínimo del rango: 4\n",
            "Ingrese el valor máximo del rango: 44\n",
            "Ingrese un número entre 4.0 y 44.0: 4\n",
            "Número aceptado: 4.0\n",
            "¿Desea validar otro número/rango? (s/n): s\n",
            "Ingrese el valor mínimo del rango: 4\n",
            "Ingrese el valor máximo del rango: 44\n",
            "Ingrese un número entre 4.0 y 44.0: d\n",
            "Entrada no válida. Ingrese un número.\n",
            "Ingrese un número entre 4.0 y 44.0: 2\n",
            "Número fuera del rango. Intente nuevamente.\n",
            "Ingrese un número entre 4.0 y 44.0: 5\n",
            "Número aceptado: 5.0\n",
            "¿Desea validar otro número/rango? (s/n): n\n",
            "\n",
            "Resultados finales:\n",
            "Cantidad de números válidos: 2\n",
            "Promedio: 4.50\n"
          ]
        }
      ]
    },
    {
      "cell_type": "markdown",
      "source": [
        "## EJERCICIO 9: Área de un Triángulo"
      ],
      "metadata": {
        "id": "asBWnyOWY3B7"
      }
    },
    {
      "cell_type": "markdown",
      "source": [
        "### DESCRIPCIÓN"
      ],
      "metadata": {
        "id": "Z3hRp8l8Y6JY"
      }
    },
    {
      "cell_type": "markdown",
      "source": [
        "Se define una función area_triangulo(base, altura) que recibe la base y la altura, calcula el área con la fórmula (base * altura) / 2 y devuelve el resultado. El programa principal solicita (o asigna) los valores, valida entradas numéricas positivas y muestra el área."
      ],
      "metadata": {
        "id": "DLN8AVBRZBOJ"
      }
    },
    {
      "cell_type": "markdown",
      "source": [
        "### SOLUCIÓN"
      ],
      "metadata": {
        "id": "L_oahHL_ZDGn"
      }
    },
    {
      "cell_type": "code",
      "source": [
        "def area_triangulo(base, altura):\n",
        "    return (base * altura) / 2\n",
        "\n",
        "try:\n",
        "    b = float(input(\"Ingrese la base del triángulo: \"))\n",
        "    h = float(input(\"Ingrese la altura del triángulo: \"))\n",
        "except ValueError:\n",
        "    print(\"Entrada no válida. Ingrese números.\")\n",
        "else:\n",
        "    if b <= 0 or h <= 0:\n",
        "        print(\"La base y la altura deben ser mayores que 0.\")\n",
        "    else:\n",
        "        area = area_triangulo(b, h)\n",
        "        print(f\"Área del triángulo: {area:.2f}\")"
      ],
      "metadata": {
        "colab": {
          "base_uri": "https://localhost:8080/"
        },
        "id": "0bwB3n1VZFfk",
        "outputId": "a183c835-8b14-4747-a582-1742610ce199"
      },
      "execution_count": null,
      "outputs": [
        {
          "output_type": "stream",
          "name": "stdout",
          "text": [
            "Ingrese la base del triángulo: 44\n",
            "Ingrese la altura del triángulo: 44\n",
            "Área del triángulo: 968.00\n"
          ]
        }
      ]
    },
    {
      "cell_type": "markdown",
      "source": [
        "## EJERCICIO 10: Validación de Número en Rango"
      ],
      "metadata": {
        "id": "sU9VYy-8ZFvj"
      }
    },
    {
      "cell_type": "markdown",
      "source": [
        "### DESCRIPCIÓN"
      ],
      "metadata": {
        "id": "v4E93cf4ZMBA"
      }
    },
    {
      "cell_type": "markdown",
      "source": [
        "La función solicita un rango (mínimo y máximo) y luego un número; valida las entradas con try-except y verifica si el número está dentro del rango. Muestra un mensaje indicando si el número es válido o no válido."
      ],
      "metadata": {
        "id": "JqUF4Kc3ZPEG"
      }
    },
    {
      "cell_type": "markdown",
      "source": [
        "### SOLUCIÓN"
      ],
      "metadata": {
        "id": "hZ2Vyh60ZPgt"
      }
    },
    {
      "cell_type": "code",
      "source": [
        "def validar_en_rango():\n",
        "    try:\n",
        "        minimo = float(input(\"Ingrese el valor mínimo del rango: \"))\n",
        "        maximo = float(input(\"Ingrese el valor máximo del rango: \"))\n",
        "    except ValueError:\n",
        "        print(\"Entrada no válida. Debe ingresar números para el rango.\")\n",
        "        return\n",
        "\n",
        "    if minimo > maximo:\n",
        "        print(\"Rango inválido: el mínimo es mayor que el máximo.\")\n",
        "        return\n",
        "\n",
        "    try:\n",
        "        num = float(input(f\"Ingrese un número entre {minimo} y {maximo}: \"))\n",
        "    except ValueError:\n",
        "        print(\"Entrada no válida. Debe ingresar un número.\")\n",
        "        return\n",
        "\n",
        "    if minimo <= num <= maximo:\n",
        "        print(f\"Número {num} -> VÁLIDO dentro del rango [{minimo}, {maximo}].\")\n",
        "    else:\n",
        "        print(f\"Número {num} -> NO VÁLIDO. Está fuera del rango [{minimo}, {maximo}].\")\n",
        "\n",
        "validar_en_rango()\n"
      ],
      "metadata": {
        "colab": {
          "base_uri": "https://localhost:8080/"
        },
        "id": "qfvOSh_oZRvm",
        "outputId": "6dcb5410-2bcb-4f50-a24b-e352e4e11325"
      },
      "execution_count": null,
      "outputs": [
        {
          "output_type": "stream",
          "name": "stdout",
          "text": [
            "Ingrese el valor mínimo del rango: 4\n",
            "Ingrese el valor máximo del rango: 44\n",
            "Ingrese un número entre 4.0 y 44.0: 4\n",
            "Número 4.0 -> VÁLIDO dentro del rango [4.0, 44.0].\n"
          ]
        }
      ]
    },
    {
      "cell_type": "markdown",
      "source": [
        "## CONCLUSIÓN"
      ],
      "metadata": {
        "id": "j5GZXHdrZVpL"
      }
    },
    {
      "cell_type": "markdown",
      "source": [
        "Se aplicaron los fundamentos básicos de programación en Python mediante ciclos, condicionales, validación de entradas, manejo de excepciones y funciones personalizadas, logrando resolver problemas prácticos como cálculos matemáticos, clasificación de datos y validación de rangos. Estos ejercicios reforzaron la lógica de programación y el uso de estructuras esenciales del lenguaje."
      ],
      "metadata": {
        "id": "eh1FbDznZa5U"
      }
    }
  ]
}