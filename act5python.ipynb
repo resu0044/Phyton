{
  "nbformat": 4,
  "nbformat_minor": 0,
  "metadata": {
    "colab": {
      "provenance": []
    },
    "kernelspec": {
      "name": "python3",
      "display_name": "Python 3"
    },
    "language_info": {
      "name": "python"
    }
  },
  "cells": [
    {
      "cell_type": "markdown",
      "source": [
        "# ACTIVIDAD 5 LISTAS, RANGE Y RANDOM EN PYTHON"
      ],
      "metadata": {
        "id": "n-I5PcupUxnf"
      }
    },
    {
      "cell_type": "markdown",
      "source": [
        "COLIN REYES BRIAN GABRIEL\\\n",
        "MATRICULA: 379494 \\\n",
        "FECHA: 15/09/25"
      ],
      "metadata": {
        "id": "dWD-5rsJVJeM"
      }
    },
    {
      "cell_type": "markdown",
      "source": [
        "## EJERCICIO 1 Nombres de Mascotas o Artistas Favoritos"
      ],
      "metadata": {
        "id": "yhwhMx5AVZxb"
      }
    },
    {
      "cell_type": "markdown",
      "source": [
        "### DESCRIPCION"
      ],
      "metadata": {
        "id": "Fzf-3d7CVjx4"
      }
    },
    {
      "cell_type": "markdown",
      "source": [
        "El programa solicita al usuario cuántos nombres va a ingresar (validando que sea un entero entre 5 y 10 y volviendo a pedir en caso de error), crea una lista vacía y, en un bucle, lee cada nombre (eliminando espacios sobrantes con strip) y lo añade con append; luego recorre la lista con enumerate() para obtener índice y nombre, convierte el nombre a mayúsculas con upper() y calcula su longitud con len() para imprimir cada línea en el formato [índice] NOMBRE --> N CARACTERES (por defecto el índice empieza en 0, pero se puede cambiar a 1 sumando 1 al índice al imprimir)."
      ],
      "metadata": {
        "id": "U3b8ned3Vodo"
      }
    },
    {
      "cell_type": "markdown",
      "source": [
        "### SOLUCIÓN"
      ],
      "metadata": {
        "id": "B8f3orwzVpIg"
      }
    },
    {
      "cell_type": "code",
      "source": [
        "def main():\n",
        "    while True:\n",
        "        try:\n",
        "            i = int(input(\"Ingresa el número de mascotas o artistas que añadirás a la lista (5 a 10): \"))\n",
        "        except ValueError:\n",
        "            print(\"Por favor ingresa un número entero.\")\n",
        "            continue\n",
        "\n",
        "        if 5 <= i <= 10:\n",
        "            break\n",
        "        else:\n",
        "            print(\"Rango incorrecto. Intenta de nuevo.\")\n",
        "\n",
        "    lista = []\n",
        "    for n in range(i):\n",
        "        nombre = input(f\"Ingresa el nombre número {n}: \").strip()\n",
        "        lista.append(nombre)\n",
        "\n",
        "    for idx, nombre in enumerate(lista):\n",
        "        longitud = len(nombre)\n",
        "        print(f\"[{idx}] {nombre.upper()} --> {longitud} CARACTERES\")\n",
        "\n",
        "if __name__ == \"__main__\":\n",
        "    main()"
      ],
      "metadata": {
        "colab": {
          "base_uri": "https://localhost:8080/",
          "height": 0
        },
        "id": "YIRiM8DwVx70",
        "outputId": "e93ca54a-3f5c-470a-d9a7-0deb26f18bd1"
      },
      "execution_count": 1,
      "outputs": [
        {
          "output_type": "stream",
          "name": "stdout",
          "text": [
            "Ingresa el número de mascotas o artistas que añadirás a la lista (5 a 10): perro\n",
            "Por favor ingresa un número entero.\n",
            "Ingresa el número de mascotas o artistas que añadirás a la lista (5 a 10): 6\n",
            "Ingresa el nombre número 0: perro\n",
            "Ingresa el nombre número 1: gato\n",
            "Ingresa el nombre número 2: avion\n",
            "Ingresa el nombre número 3: movil\n",
            "Ingresa el nombre número 4: 44\n",
            "Ingresa el nombre número 5: luis\n",
            "[0] PERRO --> 5 CARACTERES\n",
            "[1] GATO --> 4 CARACTERES\n",
            "[2] AVION --> 5 CARACTERES\n",
            "[3] MOVIL --> 5 CARACTERES\n",
            "[4] 44 --> 2 CARACTERES\n",
            "[5] LUIS --> 4 CARACTERES\n"
          ]
        }
      ]
    },
    {
      "cell_type": "markdown",
      "source": [
        "## EJERCICIO 2 Generación de Números Aleatorios"
      ],
      "metadata": {
        "id": "Ab2GVen9VytM"
      }
    },
    {
      "cell_type": "markdown",
      "source": [
        "### DESCRIPCION"
      ],
      "metadata": {
        "id": "VBYX65ZOV30U"
      }
    },
    {
      "cell_type": "markdown",
      "source": [
        "La función generar_numeros_aleatorios usa random.sample para obtener una lista de números únicos en el rango especificado (por defecto 10 números entre 30 y 50 inclusive) y valida que el rango sea suficiente para la cantidad pedida; la función imprimir_con_indices recorre la lista con enumerate() e imprime cada elemento junto con su índice en el formato solicitado."
      ],
      "metadata": {
        "id": "ufrLrTaRV466"
      }
    },
    {
      "cell_type": "markdown",
      "source": [
        "### SOLUCIÓN"
      ],
      "metadata": {
        "id": "r-MmkyszV5x4"
      }
    },
    {
      "cell_type": "code",
      "source": [
        "import random\n",
        "\n",
        "def generar_numeros_aleatorios(cantidad=10, inicio=30, fin=50):\n",
        "\n",
        "    if cantidad < 1:\n",
        "        raise ValueError(\"La cantidad debe ser al menos 1.\")\n",
        "    if cantidad > (fin - inicio + 1):\n",
        "        raise ValueError(\"Rango insuficiente para generar números únicos.\")\n",
        "    return random.sample(range(inicio, fin + 1), cantidad)\n",
        "\n",
        "def imprimir_con_indices(lista):\n",
        "    for idx, val in enumerate(lista):\n",
        "        print(f\"[{idx}] {val}\")\n",
        "\n",
        "if __name__ == \"__main__\":\n",
        "    numeros = generar_numeros_aleatorios()\n",
        "    imprimir_con_indices(numeros)"
      ],
      "metadata": {
        "id": "A9wGF_K7V9tx",
        "colab": {
          "base_uri": "https://localhost:8080/",
          "height": 0
        },
        "outputId": "80e373ea-8fcb-414d-b36a-b646bc9ed2d1"
      },
      "execution_count": 3,
      "outputs": [
        {
          "output_type": "stream",
          "name": "stdout",
          "text": [
            "[0] 39\n",
            "[1] 36\n",
            "[2] 34\n",
            "[3] 43\n",
            "[4] 50\n",
            "[5] 46\n",
            "[6] 38\n",
            "[7] 45\n",
            "[8] 40\n",
            "[9] 30\n"
          ]
        }
      ]
    },
    {
      "cell_type": "markdown",
      "source": [
        "## EJERCICIO 3 Suma de Elementos Correspondientes"
      ],
      "metadata": {
        "id": "MnKW0VvOV-Rw"
      }
    },
    {
      "cell_type": "markdown",
      "source": [
        "### DESCRIPCION"
      ],
      "metadata": {
        "id": "sTo5XCfAWG4J"
      }
    },
    {
      "cell_type": "markdown",
      "source": [
        "El programa solicita al usuario que introduzca dos listas de números (cada lista en una línea, números separados por espacios o comas), convierte y valida esas entradas (intentando primero convertir a int y si no a float, volviendo a pedir si hay valores no numéricos), luego llama a la función que suma elemento a elemento usando el tamaño de la lista más pequeña (mostrando una advertencia si las longitudes difieren) y finalmente imprime las dos listas y la lista resultado; el proceso incluye manejo de errores con try-except para capturar entradas inválidas o problemas durante la suma."
      ],
      "metadata": {
        "id": "C-BFHUNZWH_F"
      }
    },
    {
      "cell_type": "markdown",
      "source": [
        "### SOLUCIÓN"
      ],
      "metadata": {
        "id": "m22QDMfSWKjt"
      }
    },
    {
      "cell_type": "code",
      "source": [
        "def parsear_lista_desde_input(prompt):\n",
        "    while True:\n",
        "        linea = input(prompt).strip()\n",
        "        if not linea:\n",
        "            print(\"No ingresaste nada. Intenta de nuevo.\")\n",
        "            continue\n",
        "\n",
        "        tokens = [t for t in linea.replace(\",\", \" \").split() if t.strip() != \"\"]\n",
        "        numeros = []\n",
        "        try:\n",
        "            for tok in tokens:\n",
        "                try:\n",
        "                    num = int(tok)\n",
        "                except ValueError:\n",
        "                    num = float(tok)\n",
        "                numeros.append(num)\n",
        "            return numeros\n",
        "        except ValueError:\n",
        "            print(\"La entrada contiene valores no numéricos. Ingresa sólo números separados por espacios o comas.\")\n",
        "\n",
        "def sumar_elementos_correspondientes(list1, list2):\n",
        "    try:\n",
        "        len1 = len(list1)\n",
        "        len2 = len(list2)\n",
        "    except TypeError:\n",
        "        raise TypeError(\"Ambos argumentos deben ser secuencias con longitud.\")\n",
        "    n = min(len1, len2)\n",
        "    if len1 != len2:\n",
        "        print(\"Advertencia: las listas tienen distinto tamaño. Se usará el tamaño de la lista más pequeña.\")\n",
        "    resultado = []\n",
        "    for i in range(n):\n",
        "        try:\n",
        "            suma = list1[i] + list2[i]\n",
        "        except Exception as e:\n",
        "            try:\n",
        "                suma = float(list1[i]) + float(list2[i])\n",
        "            except Exception:\n",
        "                raise TypeError(f\"No se pudo sumar los elementos en la posición {i}: {list1[i]!r} + {list2[i]!r}. Error: {e}\")\n",
        "        resultado.append(suma)\n",
        "    return resultado\n",
        "\n",
        "if __name__ == \"__main__\":\n",
        "    print(\"Ingresar la primera lista (ejemplo: 1 2 3 4 o 1,2,3,4 o 1 2.5 3):\")\n",
        "    lista1 = parsear_lista_desde_input(\"Lista 1: \")\n",
        "    print(\"Ingresar la segunda lista (mismo formato):\")\n",
        "    lista2 = parsear_lista_desde_input(\"Lista 2: \")\n",
        "\n",
        "    try:\n",
        "        resultado = sumar_elementos_correspondientes(lista1, lista2)\n",
        "        print(\"Lista 1:\", lista1)\n",
        "        print(\"Lista 2:\", lista2)\n",
        "        print(\"Resultado:\", resultado)\n",
        "    except Exception as err:\n",
        "        print(\"Ocurrió un error al sumar las listas:\", err)"
      ],
      "metadata": {
        "id": "JFV2Ea0DWLJN",
        "colab": {
          "base_uri": "https://localhost:8080/",
          "height": 0
        },
        "outputId": "58d1ebc5-c355-4593-88b9-31bb9a98969b"
      },
      "execution_count": 14,
      "outputs": [
        {
          "output_type": "stream",
          "name": "stdout",
          "text": [
            "Ingresar la primera lista (ejemplo: 1 2 3 4 o 1,2,3,4 o 1 2.5 3):\n",
            "Lista 1: 4 5 32 5\n",
            "Ingresar la segunda lista (mismo formato):\n",
            "Lista 2: 2 42 2 4 4\n",
            "Advertencia: las listas tienen distinto tamaño. Se usará el tamaño de la lista más pequeña.\n",
            "Lista 1: [4, 5, 32, 5]\n",
            "Lista 2: [2, 42, 2, 4, 4]\n",
            "Resultado: [6, 47, 34, 9]\n"
          ]
        }
      ]
    },
    {
      "cell_type": "markdown",
      "source": [
        "## EJERCICIO 4 Eliminar Duplicados"
      ],
      "metadata": {
        "id": "ifnR0jPUWLkt"
      }
    },
    {
      "cell_type": "markdown",
      "source": [
        "### DESCRIPCION"
      ],
      "metadata": {
        "id": "tqZNjV5IWQPV"
      }
    },
    {
      "cell_type": "markdown",
      "source": [
        "El programa solicita al usuario una lista de números enteros (separados por espacios o comas), valida que todos los elementos sean enteros, y la función eliminar_duplicados usa un set como estructura auxiliar para detectar elementos ya vistos y construir una nueva lista que conserva el primer orden de aparición (por ejemplo, [1,2,2,3] → [1,2,3]); si se detecta un elemento no entero se lanza un TypeError y el input helper reintenta hasta obtener una entrada válida."
      ],
      "metadata": {
        "id": "gevCYVAkWQ8l"
      }
    },
    {
      "cell_type": "markdown",
      "source": [
        "### SOLUCIÓN"
      ],
      "metadata": {
        "id": "eWVSDbH1WReF"
      }
    },
    {
      "cell_type": "code",
      "source": [
        "def eliminar_duplicados(lista):\n",
        "    try:\n",
        "        for el in lista:\n",
        "            if not isinstance(el, int):\n",
        "                raise TypeError(f\"Elemento no entero detectado: {el!r}\")\n",
        "    except TypeError:\n",
        "        raise\n",
        "\n",
        "    resultado = []\n",
        "    vistos = set()\n",
        "    for el in lista:\n",
        "        if el not in vistos:\n",
        "            vistos.add(el)\n",
        "            resultado.append(el)\n",
        "    return resultado\n",
        "\n",
        "\n",
        "def parsear_lista_enteros(prompt=\"Ingresa números enteros separados por espacios o comas: \"):\n",
        "    while True:\n",
        "        linea = input(prompt).strip()\n",
        "        if not linea:\n",
        "            print(\"No ingresaste nada. Intenta de nuevo.\")\n",
        "            continue\n",
        "        tokens = [t for t in linea.replace(\",\", \" \").split() if t != \"\"]\n",
        "        try:\n",
        "            numeros = [int(tok) for tok in tokens]\n",
        "            return numeros\n",
        "        except ValueError:\n",
        "            print(\"Entrada inválida: asegúrate de ingresar sólo números enteros separados por espacios o comas.\")\n",
        "\n",
        "\n",
        "if __name__ == \"__main__\":\n",
        "    print(\"Eliminar duplicados — se conservará el primer orden de aparición.\")\n",
        "    lista = parsear_lista_enteros(\"Lista original: \")\n",
        "    try:\n",
        "        sin_duplicados = eliminar_duplicados(lista)\n",
        "        print(\"Lista original:\", lista)\n",
        "        print(\"Lista sin duplicados:\", sin_duplicados)\n",
        "    except TypeError as err:\n",
        "        print(\"Error:\", err)"
      ],
      "metadata": {
        "id": "FzLsHGOMWSL9",
        "colab": {
          "base_uri": "https://localhost:8080/",
          "height": 0
        },
        "outputId": "9f48f7f0-8de1-4f6a-a0ef-6cda6c516c3e"
      },
      "execution_count": 15,
      "outputs": [
        {
          "output_type": "stream",
          "name": "stdout",
          "text": [
            "Eliminar duplicados — se conservará el primer orden de aparición.\n",
            "Lista original: 2 4 2 43\n",
            "Lista original: [2, 4, 2, 43]\n",
            "Lista sin duplicados: [2, 4, 43]\n"
          ]
        }
      ]
    },
    {
      "cell_type": "markdown",
      "source": [
        "## EJERCICIO 5 Media y Mediana"
      ],
      "metadata": {
        "id": "70GOzTC1WSY9"
      }
    },
    {
      "cell_type": "markdown",
      "source": [
        "### DESCRIPCION"
      ],
      "metadata": {
        "id": "Cp1seaxNWaDy"
      }
    },
    {
      "cell_type": "markdown",
      "source": [
        "El programa pide al usuario una lista de números enteros en una sola línea (acepta separadores por espacios o comas), valida que la lista no esté vacía y que todos los elementos sean enteros, luego la función calcular_media_mediana calcula la media como la suma dividida entre la cantidad de elementos y la mediana ordenando la lista y tomando el valor central (o el promedio de los dos centrales si tiene longitud par), ajustando la mediana para que se muestre como entero si resulta exactamente entero; ambos valores se retornan y se imprimen."
      ],
      "metadata": {
        "id": "8n06s4GaWbHS"
      }
    },
    {
      "cell_type": "markdown",
      "source": [
        "### SOLUCIÓN"
      ],
      "metadata": {
        "id": "3urWRWR5Wcay"
      }
    },
    {
      "cell_type": "code",
      "source": [
        "def calcular_media_mediana(lista):\n",
        "    try:\n",
        "        n = len(lista)\n",
        "    except TypeError:\n",
        "        raise TypeError(\"Se espera una lista o secuencia con longitud.\")\n",
        "    if n == 0:\n",
        "        raise ValueError(\"La lista no puede estar vacía.\")\n",
        "    for el in lista:\n",
        "        if not isinstance(el, int):\n",
        "            raise TypeError(f\"Elemento no entero detectado: {el!r}\")\n",
        "\n",
        "    media = sum(lista) / n\n",
        "\n",
        "    ordenada = sorted(lista)\n",
        "    mitad = n // 2\n",
        "    if n % 2 == 1:\n",
        "        mediana = ordenada[mitad]\n",
        "    else:\n",
        "        mediana = (ordenada[mitad - 1] + ordenada[mitad]) / 2\n",
        "        if isinstance(mediana, float) and mediana.is_integer():\n",
        "            mediana = int(mediana)\n",
        "\n",
        "    return media, mediana\n",
        "\n",
        "\n",
        "def parsear_lista_enteros(prompt=\"Ingresa números enteros separados por espacios o comas: \"):\n",
        "    while True:\n",
        "        linea = input(prompt).strip()\n",
        "        if not linea:\n",
        "            print(\"No ingresaste nada. Intenta de nuevo.\")\n",
        "            continue\n",
        "        tokens = [t for t in linea.replace(\",\", \" \").split() if t != \"\"]\n",
        "        try:\n",
        "            numeros = [int(tok) for tok in tokens]\n",
        "            return numeros\n",
        "        except ValueError:\n",
        "            print(\"Entrada inválida: asegúrate de ingresar sólo números enteros (ej. 1 2 3 o 1,2,3).\")\n",
        "\n",
        "\n",
        "if __name__ == \"__main__\":\n",
        "    print(\"Cálculo de media y mediana (lista de enteros).\")\n",
        "    lista = parsear_lista_enteros(\"Lista: \")\n",
        "    try:\n",
        "        media, mediana = calcular_media_mediana(lista)\n",
        "        print(\"Lista:\", lista)\n",
        "        print(\"Media:\", media)\n",
        "        print(\"Mediana:\", mediana)\n",
        "    except Exception as e:\n",
        "        print(\"Ocurrió un error:\", e)"
      ],
      "metadata": {
        "id": "6clvooj5WdQS",
        "colab": {
          "base_uri": "https://localhost:8080/",
          "height": 0
        },
        "outputId": "a4fe5f7a-997e-4236-902c-902de182c0ce"
      },
      "execution_count": 16,
      "outputs": [
        {
          "output_type": "stream",
          "name": "stdout",
          "text": [
            "Cálculo de media y mediana (lista de enteros).\n",
            "Lista: 1  4 4 3 5 3 \n",
            "Lista: [1, 4, 4, 3, 5, 3]\n",
            "Media: 3.3333333333333335\n",
            "Mediana: 3.5\n"
          ]
        }
      ]
    },
    {
      "cell_type": "markdown",
      "source": [
        "# CONCLUSIONES"
      ],
      "metadata": {
        "id": "fyY0_KA-Weuq"
      }
    },
    {
      "cell_type": "markdown",
      "source": [
        "Estos programas forman un conjunto práctico y coherente para afianzar conceptos básicos de programación en Python: manejo de listas, uso de ciclos for, definición y uso de funciones, validación de entradas y manejo de excepciones; además introducen librerías y estructuras útiles como random y set, y operaciones comunes como cálculo de media y mediana. Cada ejercicio refuerza buenas prácticas (validar entradas, evitar duplicados, preservar orden cuando se necesita, y separar la lógica en funciones reutilizables) y muestra cómo interactuar con el usuario en la consola. Como próximos pasos sugeridos: añadir pruebas automáticas (unit tests), permitir entrada desde archivos, y manejar más tipos numéricos o datos faltantes para hacer los programas más robustos y aplicables a casos reales."
      ],
      "metadata": {
        "id": "i-3E04N0Wk7n"
      }
    },
    {
      "cell_type": "markdown",
      "source": [
        "# GITHUB"
      ],
      "metadata": {
        "id": "TYBPGPuzWmAH"
      }
    },
    {
      "cell_type": "markdown",
      "source": [
        "https://github.com/resu0044/Phyton"
      ],
      "metadata": {
        "id": "Jsi9ug_EWnoP"
      }
    }
  ]
}