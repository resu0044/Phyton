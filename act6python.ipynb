{
  "nbformat": 4,
  "nbformat_minor": 0,
  "metadata": {
    "colab": {
      "provenance": []
    },
    "kernelspec": {
      "name": "python3",
      "display_name": "Python 3"
    },
    "language_info": {
      "name": "python"
    }
  },
  "cells": [
    {
      "cell_type": "markdown",
      "source": [
        "# ACTIVIDAD 6 Búsqueda de Números con Listas y Random"
      ],
      "metadata": {
        "id": "6kFto4xQVcbo"
      }
    },
    {
      "cell_type": "markdown",
      "source": [
        "COLIN REYES BRIAN GABRIEL\\\n",
        "MATRICULA: 379494 \\\n",
        "FECHA: 22/09/25  23/09/25"
      ],
      "metadata": {
        "id": "cvP1OBVgVo4X"
      }
    },
    {
      "cell_type": "markdown",
      "source": [
        "## Ejercicio 1 Adivina el Número (3 Intentos)"
      ],
      "metadata": {
        "id": "EJaopfciVtsv"
      }
    },
    {
      "cell_type": "markdown",
      "source": [
        "### Descripción"
      ],
      "metadata": {
        "id": "ejbrdJf6YBOW"
      }
    },
    {
      "cell_type": "markdown",
      "source": [
        "Juego donde el usuario intenta adivinar un número aleatorio entre 1 y 10 en un máximo de 3 intentos. Da pistas de si el número es mayor o menor, valida la entrada con try-except, y al final muestra cuántas partidas ganó o perdió, permitiendo repetir el juego si el usuario lo desea."
      ],
      "metadata": {
        "id": "hFFIPCliYFnV"
      }
    },
    {
      "cell_type": "markdown",
      "source": [
        "### Solución"
      ],
      "metadata": {
        "id": "gpozWdtDYGLd"
      }
    },
    {
      "cell_type": "code",
      "source": [
        "import random"
      ],
      "metadata": {
        "id": "Ucs8kbh8YK1d"
      },
      "execution_count": 16,
      "outputs": []
    },
    {
      "cell_type": "code",
      "source": [
        "def jugar():\n",
        "    numero = random.randint(1, 10)\n",
        "    intentos = 3\n",
        "\n",
        "    for i in range(1, intentos + 1):\n",
        "        try:\n",
        "            guess = int(input(f\"Intento {i}: Ingresa un número entre 1 y 10: \"))\n",
        "\n",
        "            if guess < 1 or guess > 10:\n",
        "                print(\"Debes ingresar un número dentro del rango (1-10).\")\n",
        "                continue\n",
        "\n",
        "            if guess == numero:\n",
        "                print(\"¡Ganaste!\")\n",
        "                return True\n",
        "            elif guess < numero:\n",
        "                print(\"El número es mayor.\")\n",
        "            else:\n",
        "                print(\"El número es menor.\")\n",
        "\n",
        "        except ValueError:\n",
        "            print(\"Entrada inválida, ingresa un número entero.\")\n",
        "\n",
        "    print(f\"Perdiste. El número era {numero}.\")\n",
        "    return False"
      ],
      "metadata": {
        "id": "y02CZxs9-uKh"
      },
      "execution_count": 18,
      "outputs": []
    },
    {
      "cell_type": "code",
      "source": [
        "def main():\n",
        "    ganados = 0\n",
        "    perdidos = 0\n",
        "\n",
        "    while True:\n",
        "        if jugar():\n",
        "            ganados += 1\n",
        "        else:\n",
        "            perdidos += 1\n",
        "\n",
        "        print(f\"\\nJuegos ganados: {ganados} | Perdidos: {perdidos}\")\n",
        "\n",
        "        otra = input(\"\\n¿Quieres jugar de nuevo? (s/n): \").lower()\n",
        "        if otra != \"s\":\n",
        "            print(\"Gracias por jugar. ¡Hasta luego!\")\n",
        "            break\n"
      ],
      "metadata": {
        "id": "Ancl3aHn-5IP"
      },
      "execution_count": 20,
      "outputs": []
    },
    {
      "cell_type": "code",
      "source": [
        "if __name__ == \"__main__\":\n",
        "    main()"
      ],
      "metadata": {
        "colab": {
          "base_uri": "https://localhost:8080/",
          "height": 0
        },
        "id": "56qWT1zI-9VM",
        "outputId": "3d9a1af7-a6e6-400e-d934-bbd90c1f209b"
      },
      "execution_count": 21,
      "outputs": [
        {
          "output_type": "stream",
          "name": "stdout",
          "text": [
            "Intento 1: Ingresa un número entre 1 y 10: 5\n",
            "El número es menor.\n",
            "Intento 2: Ingresa un número entre 1 y 10: 2\n",
            "El número es mayor.\n",
            "Intento 3: Ingresa un número entre 1 y 10: 4\n",
            "El número es menor.\n",
            "Perdiste. El número era 3.\n",
            "\n",
            "Juegos ganados: 0 | Perdidos: 1\n",
            "\n",
            "¿Quieres jugar de nuevo? (s/n): s\n",
            "Intento 1: Ingresa un número entre 1 y 10: 4\n",
            "El número es mayor.\n",
            "Intento 2: Ingresa un número entre 1 y 10: 8\n",
            "El número es menor.\n",
            "Intento 3: Ingresa un número entre 1 y 10: 7\n",
            "El número es menor.\n",
            "Perdiste. El número era 5.\n",
            "\n",
            "Juegos ganados: 0 | Perdidos: 2\n",
            "\n",
            "¿Quieres jugar de nuevo? (s/n): n\n",
            "Gracias por jugar. ¡Hasta luego!\n"
          ]
        }
      ]
    },
    {
      "cell_type": "markdown",
      "source": [
        "## Ejercicio 2 Busca Número en Lista (3 Versiones)"
      ],
      "metadata": {
        "id": "9-9T74MfYLX8"
      }
    },
    {
      "cell_type": "markdown",
      "source": [
        "## Descripción"
      ],
      "metadata": {
        "id": "3mfvAQkPYR79"
      }
    },
    {
      "cell_type": "markdown",
      "source": [
        "Este programa genera una lista de 10 números aleatorios únicos usando tres métodos diferentes: validación con ciclos (while), random.sample() y random.shuffle(). Después selecciona un número al azar de la lista y el usuario debe adivinar su índice en un máximo de 3 intentos, validando la entrada con try-except y mostrando mensajes de acierto o error."
      ],
      "metadata": {
        "id": "nFsTlMiVYbGd"
      }
    },
    {
      "cell_type": "markdown",
      "source": [
        "### Solución"
      ],
      "metadata": {
        "id": "fv4MaCzcYcJV"
      }
    },
    {
      "cell_type": "code",
      "source": [
        "import random\n",
        "random.seed(42)"
      ],
      "metadata": {
        "id": "vta3vgfAYfPc"
      },
      "execution_count": 2,
      "outputs": []
    },
    {
      "cell_type": "code",
      "source": [
        "def llena_lista_shufle():\n",
        "    lista = [1, 2, 3, 4, 5, 6, 7, 8, 9, 10]\n",
        "    random.shuffle(lista)\n",
        "    return lista"
      ],
      "metadata": {
        "id": "oHOOK-RCbc48"
      },
      "execution_count": 3,
      "outputs": []
    },
    {
      "cell_type": "code",
      "source": [
        "def llena_lista_while():\n",
        "    lista = []\n",
        "    i = 0\n",
        "    while i < 10:\n",
        "        num = random.randint(1, 10)\n",
        "        if num in lista:\n",
        "            continue\n",
        "        lista.append(num)\n",
        "        i += 1\n",
        "    return lista"
      ],
      "metadata": {
        "id": "MbosjnWVb_Nh"
      },
      "execution_count": 4,
      "outputs": []
    },
    {
      "cell_type": "code",
      "source": [
        "def llena_lista_sample():\n",
        "    lista = random.sample(range(1, 11), 10)\n",
        "    return lista"
      ],
      "metadata": {
        "id": "rgf3YZ5mfuYK"
      },
      "execution_count": 9,
      "outputs": []
    },
    {
      "cell_type": "code",
      "source": [
        "lista = llena_lista_shufle()\n",
        "print(lista)"
      ],
      "metadata": {
        "colab": {
          "base_uri": "https://localhost:8080/",
          "height": 0
        },
        "id": "7wBLmaq0c1yW",
        "outputId": "e1641812-2c61-45b4-d69b-15d610e33187"
      },
      "execution_count": 6,
      "outputs": [
        {
          "output_type": "stream",
          "name": "stdout",
          "text": [
            "[8, 4, 3, 9, 6, 7, 10, 5, 1, 2]\n"
          ]
        }
      ]
    },
    {
      "cell_type": "code",
      "source": [
        "lista = llena_lista_while()\n",
        "print(lista)"
      ],
      "metadata": {
        "colab": {
          "base_uri": "https://localhost:8080/",
          "height": 0
        },
        "id": "mpBBcPCxfSCD",
        "outputId": "453f10e5-e8c2-44f0-cf1e-aaa6f97d1293"
      },
      "execution_count": 7,
      "outputs": [
        {
          "output_type": "stream",
          "name": "stdout",
          "text": [
            "[10, 7, 1, 2, 4, 9, 8, 5, 3, 6]\n"
          ]
        }
      ]
    },
    {
      "cell_type": "code",
      "source": [
        "listaa = llena_lista_sample()\n",
        "print(listaa)"
      ],
      "metadata": {
        "colab": {
          "base_uri": "https://localhost:8080/",
          "height": 0
        },
        "id": "E50CtWNSkJgm",
        "outputId": "a4bb9ae8-5299-403b-99df-d69d75ecb1ed"
      },
      "execution_count": 12,
      "outputs": [
        {
          "output_type": "stream",
          "name": "stdout",
          "text": [
            "[10, 6, 4, 9, 1, 7, 2, 8, 5, 3]\n"
          ]
        }
      ]
    },
    {
      "cell_type": "code",
      "source": [
        "def jugar(lista):\n",
        "    print(\"Lista generada:\", lista)\n",
        "\n",
        "    numero = random.choice(lista)\n",
        "    print(\"El número a buscar es:\", numero)\n",
        "\n",
        "    intentos = 3\n",
        "    for i in range(1, intentos + 1):\n",
        "        try:\n",
        "            indice = int(input(f\"¿En qué índice está? (Intento {i}): \"))\n",
        "            if indice < 0 or indice >= len(lista):\n",
        "                print(\"Índice fuera de rango. Intenta de nuevo.\")\n",
        "                continue\n",
        "\n",
        "            if lista[indice] == numero:\n",
        "                print(f\"¡Ganaste! El {numero} está en el índice {indice}.\")\n",
        "                return\n",
        "            else:\n",
        "                print(\"Incorrecto.\")\n",
        "        except ValueError:\n",
        "            print(\"⚠️ Entrada inválida, escribe un número.\")\n",
        "\n",
        "    print(f\"Perdiste. El {numero} estaba en el índice {lista.index(numero)}.\")"
      ],
      "metadata": {
        "id": "bzr2lTIW8zl0"
      },
      "execution_count": 13,
      "outputs": []
    },
    {
      "cell_type": "code",
      "source": [
        "if __name__ == \"__main__\":\n",
        "    print(\"\\n--- Versión con shuffle ---\")\n",
        "    lista_shuffle = llena_lista_shufle()\n",
        "    jugar(lista_shuffle)\n",
        "\n",
        "    print(\"\\n--- Versión con while ---\")\n",
        "    lista_while = llena_lista_while()\n",
        "    jugar(lista_while)\n",
        "\n",
        "    print(\"\\n--- Versión con sample ---\")\n",
        "    lista_sample = llena_lista_sample()\n",
        "    jugar(lista_sample)"
      ],
      "metadata": {
        "colab": {
          "base_uri": "https://localhost:8080/",
          "height": 0
        },
        "id": "TTuiulRk9Gp9",
        "outputId": "d7c47753-b4c1-46dd-fc02-508a3ce47133"
      },
      "execution_count": 15,
      "outputs": [
        {
          "output_type": "stream",
          "name": "stdout",
          "text": [
            "\n",
            "--- Versión con shuffle ---\n",
            "Lista generada: [1, 8, 9, 10, 3, 6, 4, 5, 7, 2]\n",
            "El número a buscar es: 10\n",
            "¿En qué índice está? (Intento 1): 4\n",
            "Incorrecto.\n",
            "¿En qué índice está? (Intento 2): 2\n",
            "Incorrecto.\n",
            "¿En qué índice está? (Intento 3): 6\n",
            "Incorrecto.\n",
            "Perdiste. El 10 estaba en el índice 3.\n",
            "\n",
            "--- Versión con while ---\n",
            "Lista generada: [5, 2, 10, 3, 9, 4, 8, 7, 6, 1]\n",
            "El número a buscar es: 3\n",
            "¿En qué índice está? (Intento 1): 2\n",
            "Incorrecto.\n",
            "¿En qué índice está? (Intento 2): 5\n",
            "Incorrecto.\n",
            "¿En qué índice está? (Intento 3): 7\n",
            "Incorrecto.\n",
            "Perdiste. El 3 estaba en el índice 3.\n",
            "\n",
            "--- Versión con sample ---\n",
            "Lista generada: [1, 6, 7, 3, 10, 2, 8, 9, 5, 4]\n",
            "El número a buscar es: 9\n",
            "¿En qué índice está? (Intento 1): 2\n",
            "Incorrecto.\n",
            "¿En qué índice está? (Intento 2): 5\n",
            "Incorrecto.\n",
            "¿En qué índice está? (Intento 3): 7\n",
            "¡Ganaste! El 9 está en el índice 7.\n"
          ]
        }
      ]
    },
    {
      "cell_type": "markdown",
      "source": [
        "# Conclusión"
      ],
      "metadata": {
        "id": "9b7p_HvHYf41"
      }
    },
    {
      "cell_type": "markdown",
      "source": [
        "En ambos programas se aplicaron fundamentos de generación de números aleatorios, control de ciclos (while y for) y validación de entradas con try-except. Se desarrolló la lógica de interacción con el usuario mediante juegos, promoviendo la práctica de estructuras de control, condicionales y manejo de errores, logrando que el usuario pueda experimentar con intentos limitados y retroalimentación inmediata sobre sus acciones."
      ],
      "metadata": {
        "id": "87Kf1VLEYjDc"
      }
    },
    {
      "cell_type": "markdown",
      "source": [
        "# GITHUB"
      ],
      "metadata": {
        "id": "GULYdTc2Yj4M"
      }
    },
    {
      "cell_type": "markdown",
      "source": [
        "https://github.com/resu0044/Phyton"
      ],
      "metadata": {
        "id": "3jMpNda_YmeU"
      }
    }
  ]
}